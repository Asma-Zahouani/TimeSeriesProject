{
 "cells": [
  {
   "cell_type": "markdown",
   "metadata": {},
   "source": [
    "<h1>Table of Contents<span class=\"tocSkip\"></span></h1>\n",
    "<div class=\"toc\"><ul class=\"toc-item\"><li><span><a href=\"#Examine-data\" data-toc-modified-id=\"Examine-data-1\"><span class=\"toc-item-num\">1&nbsp;&nbsp;</span>Examine data</a></span><ul class=\"toc-item\"><li><span><a href=\"#Plot-the-data\" data-toc-modified-id=\"Plot-the-data-1.1\"><span class=\"toc-item-num\">1.1&nbsp;&nbsp;</span>Plot the data</a></span></li></ul></li><li><span><a href=\"#Decompose-data\" data-toc-modified-id=\"Decompose-data-2\"><span class=\"toc-item-num\">2&nbsp;&nbsp;</span>Decompose data</a></span><ul class=\"toc-item\"><li><span><a href=\"#Decompose-with-Statsmodels\" data-toc-modified-id=\"Decompose-with-Statsmodels-2.1\"><span class=\"toc-item-num\">2.1&nbsp;&nbsp;</span>Decompose with Statsmodels</a></span></li></ul></li><li><span><a href=\"#Stationarity\" data-toc-modified-id=\"Stationarity-3\"><span class=\"toc-item-num\">3&nbsp;&nbsp;</span>Stationarity</a></span><ul class=\"toc-item\"><li><span><a href=\"#Augmented-Dickey-Fuller-test\" data-toc-modified-id=\"Augmented-Dickey-Fuller-test-3.1\"><span class=\"toc-item-num\">3.1&nbsp;&nbsp;</span>Augmented Dickey-Fuller test</a></span></li><li><span><a href=\"#Differencing\" data-toc-modified-id=\"Differencing-3.2\"><span class=\"toc-item-num\">3.2&nbsp;&nbsp;</span>Differencing</a></span></li></ul></li><li><span><a href=\"#Autocorrelations-and-Choosing-Model-Order\" data-toc-modified-id=\"Autocorrelations-and-Choosing-Model-Order-4\"><span class=\"toc-item-num\">4&nbsp;&nbsp;</span>Autocorrelations and Choosing Model Order</a></span></li><li><span><a href=\"#Fitting-an-model\" data-toc-modified-id=\"Fitting-an-model-5\"><span class=\"toc-item-num\">5&nbsp;&nbsp;</span>Fitting an model</a></span><ul class=\"toc-item\"><li><span><a href=\"#ARIMA\" data-toc-modified-id=\"ARIMA-5.1\"><span class=\"toc-item-num\">5.1&nbsp;&nbsp;</span>ARIMA</a></span></li><li><span><a href=\"#SARIMAX-Model\" data-toc-modified-id=\"SARIMAX-Model-5.2\"><span class=\"toc-item-num\">5.2&nbsp;&nbsp;</span>SARIMAX-Model</a></span></li><li><span><a href=\"#Grid-search\" data-toc-modified-id=\"Grid-search-5.3\"><span class=\"toc-item-num\">5.3&nbsp;&nbsp;</span>Grid search</a></span></li><li><span><a href=\"#Fitting-the-SARIMAX-Model\" data-toc-modified-id=\"Fitting-the-SARIMAX-Model-5.4\"><span class=\"toc-item-num\">5.4&nbsp;&nbsp;</span>Fitting the SARIMAX-Model</a></span></li><li><span><a href=\"#Forecasts\" data-toc-modified-id=\"Forecasts-5.5\"><span class=\"toc-item-num\">5.5&nbsp;&nbsp;</span>Forecasts</a></span></li><li><span><a href=\"#Model-Accuracy:-Mean-squared-error-(MSE)\" data-toc-modified-id=\"Model-Accuracy:-Mean-squared-error-(MSE)-5.6\"><span class=\"toc-item-num\">5.6&nbsp;&nbsp;</span>Model Accuracy: Mean squared error (MSE)</a></span></li></ul></li></ul></div>"
   ]
  },
  {
   "attachments": {},
   "cell_type": "markdown",
   "metadata": {},
   "source": []
  }
 ],
 "metadata": {
  "kernelspec": {
   "display_name": "base",
   "language": "python",
   "name": "python3"
  },
  "language_info": {
   "name": "python",
   "version": "3.10.9"
  },
  "orig_nbformat": 4
 },
 "nbformat": 4,
 "nbformat_minor": 2
}
